{
 "cells": [
  {
   "cell_type": "markdown",
   "id": "9f4fcf9f-c3f6-4059-bfb1-f44ad801ac71",
   "metadata": {},
   "source": [
    "# Assignment 1"
   ]
  },
  {
   "cell_type": "markdown",
   "id": "104b5687-2a02-4e4a-bbfc-c8e10adc3965",
   "metadata": {},
   "source": [
    "# Date : 2023 February 14"
   ]
  },
  {
   "cell_type": "markdown",
   "id": "927e71f9-c07c-4a63-b25a-6d15bfb3d983",
   "metadata": {},
   "source": [
    "# Hansika Babalagama"
   ]
  },
  {
   "cell_type": "markdown",
   "id": "e13af757-098f-4ba8-89c1-d112a8aa54b2",
   "metadata": {},
   "source": [
    "**Hansika Babalagama**"
   ]
  },
  {
   "cell_type": "markdown",
   "id": "28744fd8-3058-4d3c-bde0-69f9c469b7f3",
   "metadata": {},
   "source": [
    "### Commonly used programing languages\n",
    "- Java\n",
    "- HTML\n",
    "- C++\n",
    "- Python\n",
    "- PHP\n",
    "- C#\n",
    "- Swift"
   ]
  },
  {
   "cell_type": "markdown",
   "id": "ba78abc8-1f9b-4929-bc84-b3026d96392d",
   "metadata": {},
   "source": [
    "|Intermediate devices|End devices         |Media|\n",
    "|--------------------|--------------------|------------|\n",
    "|WIFI Router         | IP Phone           | Wireless Media |\n",
    "|LAN Switch          | Desktop Computer   | LAN Media |\n",
    "|Router              | Laptop             | WAN Media |\n",
    "|Multylayer Switch   | Wireless Tablet    ||\n",
    "|Firewall            | Printer            ||"
   ]
  },
  {
   "cell_type": "code",
   "execution_count": 19,
   "id": "f8a512db-570c-4061-ab08-c4db10a5677c",
   "metadata": {},
   "outputs": [
    {
     "name": "stdout",
     "output_type": "stream",
     "text": [
      "Hansika Babalagama\n"
     ]
    }
   ],
   "source": [
    "print (\"Hansika Babalagama\")"
   ]
  },
  {
   "cell_type": "code",
   "execution_count": 20,
   "id": "22701cda-6ea8-4e2e-bd1c-b10dca7b1c12",
   "metadata": {},
   "outputs": [
    {
     "name": "stdout",
     "output_type": "stream",
     "text": [
      "Nayananjali\n"
     ]
    }
   ],
   "source": [
    "var= \"Nayananjali\"\n",
    "print (var)"
   ]
  },
  {
   "cell_type": "code",
   "execution_count": 21,
   "id": "d657424b-1a34-4622-840f-4c5d0729756a",
   "metadata": {},
   "outputs": [
    {
     "name": "stdin",
     "output_type": "stream",
     "text": [
      "Enter the first number:  868\n",
      "Enter the second number:  112\n"
     ]
    },
    {
     "name": "stdout",
     "output_type": "stream",
     "text": [
      "The sum of 868 and 112 is 980\n"
     ]
    }
   ],
   "source": [
    "num01 = int(input(\"Enter the first number: \"))\n",
    "num02 = int(input(\"Enter the second number: \"))\n",
    "\n",
    "result = num01+num02\n",
    "\n",
    "print(\"The sum of\", num01, \"and\", num02, \"is\", result)"
   ]
  },
  {
   "cell_type": "code",
   "execution_count": 22,
   "id": "ab821f5e-f5cb-4b3d-ad37-3a16fb3a3173",
   "metadata": {},
   "outputs": [
    {
     "name": "stdin",
     "output_type": "stream",
     "text": [
      "Enter your name:  Hansika Babalagama\n"
     ]
    },
    {
     "name": "stdout",
     "output_type": "stream",
     "text": [
      "Hello! Hansika Babalagama\n"
     ]
    }
   ],
   "source": [
    "name = input(\"Enter your name: \")\n",
    "print(\"Hello!\", name)"
   ]
  },
  {
   "cell_type": "code",
   "execution_count": null,
   "id": "192ad1d0-f857-45a0-8702-01069e70dcce",
   "metadata": {},
   "outputs": [],
   "source": []
  }
 ],
 "metadata": {
  "kernelspec": {
   "display_name": "Python 3 (ipykernel)",
   "language": "python",
   "name": "python3"
  },
  "language_info": {
   "codemirror_mode": {
    "name": "ipython",
    "version": 3
   },
   "file_extension": ".py",
   "mimetype": "text/x-python",
   "name": "python",
   "nbconvert_exporter": "python",
   "pygments_lexer": "ipython3",
   "version": "3.9.13"
  }
 },
 "nbformat": 4,
 "nbformat_minor": 5
}
