{
 "cells": [
  {
   "cell_type": "markdown",
   "id": "2e17d9a9-5541-4d6c-ae7b-52cd7f1f3734",
   "metadata": {},
   "source": [
    "# Assignment 02\n",
    "\n",
    "## Hansika Babalagama\n",
    "\n",
    "### 2023 Feb 26\n",
    "\n",
    "### Module Python Part III."
   ]
  },
  {
   "cell_type": "markdown",
   "id": "52297bd0-26a4-43e6-85c1-1b300ca0bcd7",
   "metadata": {},
   "source": [
    "## Q01"
   ]
  },
  {
   "cell_type": "code",
   "execution_count": 8,
   "id": "6e5a3c80-7270-43f1-97de-4d01f71181af",
   "metadata": {},
   "outputs": [
    {
     "name": "stdout",
     "output_type": "stream",
     "text": [
      "30\n"
     ]
    }
   ],
   "source": [
    "product = lambda num1, num2: num1*num2\n",
    "result = product(5,6)\n",
    "print(result)"
   ]
  },
  {
   "cell_type": "markdown",
   "id": "2ee76054-e64b-41ea-acb2-8ab7309bd2b2",
   "metadata": {},
   "source": [
    "## Q02"
   ]
  },
  {
   "cell_type": "code",
   "execution_count": 16,
   "id": "a2321361-9c7b-44fc-9d40-87ec44d9aaad",
   "metadata": {},
   "outputs": [
    {
     "name": "stdout",
     "output_type": "stream",
     "text": [
      "The are of the circle is: 314.1592653589793\n"
     ]
    }
   ],
   "source": [
    "import math\n",
    "\n",
    "def afc(radius):\n",
    "    area = math.pi*radius**2\n",
    "    return area\n",
    "\n",
    "result = afc(10)\n",
    "print(\"The are of the circle is:\",result)"
   ]
  },
  {
   "cell_type": "markdown",
   "id": "c1c65a50-dcf5-48dc-be95-f6899fdbfbb3",
   "metadata": {},
   "source": [
    "## Q03"
   ]
  },
  {
   "cell_type": "code",
   "execution_count": 21,
   "id": "4834b16a-245c-4e2c-af47-c781611df41b",
   "metadata": {},
   "outputs": [
    {
     "name": "stdout",
     "output_type": "stream",
     "text": [
      "30\n",
      "0.4\n"
     ]
    }
   ],
   "source": [
    "def mycal(num1,num2,op):\n",
    "    if op == 'p':\n",
    "        result = num1+num2\n",
    "    elif op == 'm':\n",
    "        result = num1-num2\n",
    "    elif op == 'mu':\n",
    "        result = num1*num2\n",
    "    elif op == 'd':\n",
    "        result = num1/num2\n",
    "        \n",
    "    else:\n",
    "        print(\"Invalid Operator\")\n",
    "        return None\n",
    "    return result\n",
    "\n",
    "result01 = mycal(5,6,'mu')\n",
    "print(result01)\n",
    "\n",
    "result02 = mycal(2,5,'d')\n",
    "print(result02)"
   ]
  },
  {
   "cell_type": "markdown",
   "id": "8d069f67-104d-49da-8ee0-a5b845785cff",
   "metadata": {},
   "source": [
    "## Q04"
   ]
  },
  {
   "cell_type": "code",
   "execution_count": 33,
   "id": "c5a27ed7-b638-499c-84b4-5f50d962d924",
   "metadata": {},
   "outputs": [
    {
     "name": "stdout",
     "output_type": "stream",
     "text": [
      "50\n"
     ]
    }
   ],
   "source": [
    "class Rectangle:\n",
    "    def __init__(self, length, width):\n",
    "        self.length=length\n",
    "        self.width=width\n",
    "        \n",
    "    def area(self):\n",
    "        return self.length*self.width\n",
    "    \n",
    "rect = Rectangle(5,10)\n",
    "print(rect.area())"
   ]
  },
  {
   "cell_type": "markdown",
   "id": "6fce27a4-6062-41d8-8165-08b75c483c74",
   "metadata": {},
   "source": [
    "## Q05"
   ]
  },
  {
   "cell_type": "code",
   "execution_count": 63,
   "id": "ba9b6d83-b07e-4487-891a-a56535720875",
   "metadata": {},
   "outputs": [
    {
     "name": "stdout",
     "output_type": "stream",
     "text": [
      "25\n",
      "This shape is a square\n"
     ]
    }
   ],
   "source": [
    "class Shape:\n",
    "    def __init__(self, name, length):\n",
    "        self.name = name\n",
    "        self.length = length\n",
    "    def area(self): return 0\n",
    "\n",
    "\n",
    "class Square(Shape):\n",
    "    def __init__(self, name, length):\n",
    "        super().__init__(name, length)\n",
    "    \n",
    "    def area(self):\n",
    "        return self.length ** 2\n",
    "    \n",
    "    def describe(self):\n",
    "        print(\"This shape is a \" + self.name)\n",
    "        \n",
    "s = Square('square', 5)\n",
    "print(s.area())\n",
    "s.describe()"
   ]
  },
  {
   "cell_type": "code",
   "execution_count": null,
   "id": "06b519bc-06c3-4195-ac5d-08e5bbcba04c",
   "metadata": {},
   "outputs": [],
   "source": []
  }
 ],
 "metadata": {
  "kernelspec": {
   "display_name": "Python 3 (ipykernel)",
   "language": "python",
   "name": "python3"
  },
  "language_info": {
   "codemirror_mode": {
    "name": "ipython",
    "version": 3
   },
   "file_extension": ".py",
   "mimetype": "text/x-python",
   "name": "python",
   "nbconvert_exporter": "python",
   "pygments_lexer": "ipython3",
   "version": "3.9.13"
  }
 },
 "nbformat": 4,
 "nbformat_minor": 5
}
