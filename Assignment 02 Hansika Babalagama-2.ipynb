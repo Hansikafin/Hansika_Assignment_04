{
 "cells": [
  {
   "cell_type": "markdown",
   "id": "9782be2c-50a5-448d-981e-0d8725300108",
   "metadata": {
    "tags": []
   },
   "source": [
    "# Assignment 02\n",
    "## Hansika Babalagama\n",
    "### 2023 Feb 20\n",
    "### module Python Part I."
   ]
  },
  {
   "cell_type": "markdown",
   "id": "c2e33512-bc25-47a0-8a28-f33041f5609e",
   "metadata": {},
   "source": [
    "#### 01"
   ]
  },
  {
   "cell_type": "code",
   "execution_count": null,
   "id": "23d4adc8-754b-4343-9302-34e4574e0d58",
   "metadata": {},
   "outputs": [
    {
     "name": "stdout",
     "output_type": "stream",
     "text": [
      "The result of the calculation was:  149769\n"
     ]
    }
   ],
   "source": [
    "num1 = 100\n",
    "num2 = 29\n",
    "\n",
    "result = (num1+num2)*3\n",
    "\n",
    "ex_result = result**2\n",
    "\n",
    "print (\"The result of the calculation was: \", ex_result)"
   ]
  },
  {
   "cell_type": "markdown",
   "id": "695d1ce0-4f7e-4616-844a-3c054a75052f",
   "metadata": {
    "tags": []
   },
   "source": [
    "#### 02"
   ]
  },
  {
   "cell_type": "code",
   "execution_count": 48,
   "id": "153e0abe-d53b-4d71-8bf5-96ff8e15ab32",
   "metadata": {},
   "outputs": [
    {
     "name": "stdin",
     "output_type": "stream",
     "text": [
      "Your Name : Hansika\n",
      "Year of birt:  1991\n",
      "Age:  32\n"
     ]
    },
    {
     "name": "stdout",
     "output_type": "stream",
     "text": [
      "Your Password is:  91Han1024\n"
     ]
    }
   ],
   "source": [
    "name = input(\"Your Name :\")\n",
    "year = int(input(\"Year of birt: \"))\n",
    "age = int(input(\"Age: \"))\n",
    "\n",
    "year_dig = str(year)[-2:]\n",
    "name_let = name[:3].capitalize()\n",
    "age_dig = str(age**2)\n",
    "\n",
    "password = year_dig+name_let+age_dig\n",
    "\n",
    "print (\"Your Password is: \", password)"
   ]
  },
  {
   "cell_type": "markdown",
   "id": "19af0d08-dd90-4b80-bef8-ab8b159231c2",
   "metadata": {},
   "source": [
    "#### 03"
   ]
  },
  {
   "cell_type": "code",
   "execution_count": null,
   "id": "75b9dcdc-1648-461b-b7f4-4f9ef5f9f593",
   "metadata": {},
   "outputs": [
    {
     "name": "stdin",
     "output_type": "stream",
     "text": [
      "First number:  3\n",
      "Second number:  6\n"
     ]
    },
    {
     "name": "stdout",
     "output_type": "stream",
     "text": [
      "One of the numbers is even.\n"
     ]
    }
   ],
   "source": [
    "num1 = int(input(\"First number: \"))\n",
    "num2 = int(input(\"Second number: \"))\n",
    "\n",
    "\n",
    "if num1 % 2 == 0 and num2 % 2 == 0:\n",
    "    print(\"Both numbers are even.\")\n",
    "\n",
    "elif num1 % 2 == 0 or num2 % 2 == 0:\n",
    "    print(\"One of the numbers is even.\")\n",
    "\n",
    "else:\n",
    "    print(\"Both numbers are odd.\")"
   ]
  },
  {
   "cell_type": "markdown",
   "id": "921d57a0-5f28-407e-833b-2f7665de292e",
   "metadata": {},
   "source": [
    "#### 04"
   ]
  },
  {
   "cell_type": "code",
   "execution_count": 11,
   "id": "11b67c07-e28c-4d48-9570-898616af3640",
   "metadata": {
    "tags": []
   },
   "outputs": [
    {
     "name": "stdin",
     "output_type": "stream",
     "text": [
      "Give an integer:  5\n"
     ]
    },
    {
     "name": "stdout",
     "output_type": "stream",
     "text": [
      "The sum was: 10\n"
     ]
    }
   ],
   "source": [
    "num = int(input(\"Give an integer: \"))\n",
    "sum = 0\n",
    "\n",
    "for s in range(num):\n",
    "    if s >= 0:\n",
    "        sum += s\n",
    "\n",
    "print(\"The sum was:\", sum)\n"
   ]
  },
  {
   "cell_type": "markdown",
   "id": "ecad9cb8-e8e7-40bc-be9d-33f0cb0bd29d",
   "metadata": {},
   "source": [
    "#### 05"
   ]
  },
  {
   "cell_type": "code",
   "execution_count": 46,
   "id": "ec698200-164b-4aad-9c48-1d2d069684ca",
   "metadata": {},
   "outputs": [
    {
     "name": "stdout",
     "output_type": "stream",
     "text": [
      "Dealer has generated a random number between 0 and 10.\n"
     ]
    },
    {
     "name": "stdin",
     "output_type": "stream",
     "text": [
      "Player1:  1\n"
     ]
    },
    {
     "name": "stdout",
     "output_type": "stream",
     "text": [
      "Try a greater number.\n"
     ]
    },
    {
     "name": "stdin",
     "output_type": "stream",
     "text": [
      "Player2:  2\n"
     ]
    },
    {
     "name": "stdout",
     "output_type": "stream",
     "text": [
      "Try a greater number.\n"
     ]
    },
    {
     "name": "stdin",
     "output_type": "stream",
     "text": [
      "Player2:  3\n"
     ]
    },
    {
     "name": "stdout",
     "output_type": "stream",
     "text": [
      "Try a greater number.\n"
     ]
    },
    {
     "name": "stdin",
     "output_type": "stream",
     "text": [
      "Player2:  9\n"
     ]
    },
    {
     "name": "stdout",
     "output_type": "stream",
     "text": [
      "Try a smaller number.\n"
     ]
    },
    {
     "name": "stdin",
     "output_type": "stream",
     "text": [
      "Player2:  7\n"
     ]
    },
    {
     "name": "stdout",
     "output_type": "stream",
     "text": [
      "Try a smaller number.\n"
     ]
    },
    {
     "name": "stdin",
     "output_type": "stream",
     "text": [
      "Player2:  5\n"
     ]
    },
    {
     "name": "stdout",
     "output_type": "stream",
     "text": [
      "Try a smaller number.\n"
     ]
    },
    {
     "name": "stdin",
     "output_type": "stream",
     "text": [
      "Player2:  4\n"
     ]
    },
    {
     "name": "stdout",
     "output_type": "stream",
     "text": [
      "That's right! Number of tries: 7\n"
     ]
    },
    {
     "name": "stdin",
     "output_type": "stream",
     "text": [
      "Player2:  0\n"
     ]
    },
    {
     "name": "stdout",
     "output_type": "stream",
     "text": [
      "Try a greater number.\n"
     ]
    },
    {
     "name": "stdin",
     "output_type": "stream",
     "text": [
      "Player2:  8\n"
     ]
    },
    {
     "name": "stdout",
     "output_type": "stream",
     "text": [
      "Try a smaller number.\n"
     ]
    },
    {
     "name": "stdin",
     "output_type": "stream",
     "text": [
      "Player2:  1\n"
     ]
    },
    {
     "name": "stdout",
     "output_type": "stream",
     "text": [
      "Try a greater number.\n"
     ]
    },
    {
     "name": "stdin",
     "output_type": "stream",
     "text": [
      "Player2:  8\n"
     ]
    },
    {
     "name": "stdout",
     "output_type": "stream",
     "text": [
      "Try a smaller number.\n"
     ]
    },
    {
     "name": "stdin",
     "output_type": "stream",
     "text": [
      "Player2:  4\n"
     ]
    },
    {
     "name": "stdout",
     "output_type": "stream",
     "text": [
      "That's right! Number of tries: 5\n",
      "Winner is Player2\n"
     ]
    }
   ],
   "source": [
    "import random\n",
    "def guessing_game():\n",
    "    \n",
    "    number = random.randint(0, 10)\n",
    "    print(\"Dealer has generated a random number between 0 and 10.\")\n",
    "    \n",
    "    tries_player1 = 0\n",
    "    tries_player2 = 0\n",
    "    current_player = 1\n",
    "    \n",
    "    while True:\n",
    "        guess = int(input(\"Player{}: \".format(current_player)))\n",
    "        tries_player1 += 1\n",
    "       \n",
    "        if guess < number:\n",
    "            print(\"Try a greater number.\")\n",
    "        elif guess > number:\n",
    "            print(\"Try a smaller number.\")\n",
    "        else:\n",
    "            print(\"That's right! Number of tries: {}\".format(tries_player1))\n",
    "            break\n",
    "        \n",
    "        if current_player == 1:\n",
    "            current_player = 2\n",
    "   \n",
    "    while True:\n",
    "        guess = int(input(\"Player{}: \".format(current_player)))\n",
    "        tries_player2 += 1\n",
    "        \n",
    "        if guess < number:\n",
    "            print(\"Try a greater number.\")\n",
    "        elif guess > number:\n",
    "            print(\"Try a smaller number.\")\n",
    "        else:\n",
    "            print(\"That's right! Number of tries: {}\".format(tries_player2))\n",
    "            break\n",
    "            \n",
    "    if tries_player1 < tries_player2:\n",
    "        print(\"Winner is Player1\")\n",
    "    elif tries_player2 < tries_player1:\n",
    "        print(\"Winner is Player2\")\n",
    "    else:\n",
    "        print(\"It's a tie!\")\n",
    "        \n",
    "guessing_game()\n"
   ]
  }
 ],
 "metadata": {
  "kernelspec": {
   "display_name": "Python 3 (ipykernel)",
   "language": "python",
   "name": "python3"
  },
  "language_info": {
   "codemirror_mode": {
    "name": "ipython",
    "version": 3
   },
   "file_extension": ".py",
   "mimetype": "text/x-python",
   "name": "python",
   "nbconvert_exporter": "python",
   "pygments_lexer": "ipython3",
   "version": "3.9.13"
  }
 },
 "nbformat": 4,
 "nbformat_minor": 5
}
